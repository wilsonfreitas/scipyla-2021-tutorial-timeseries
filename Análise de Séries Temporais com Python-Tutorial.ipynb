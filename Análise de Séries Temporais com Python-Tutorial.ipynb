{
 "cells": [
  {
   "cell_type": "code",
   "execution_count": null,
   "id": "attractive-locking",
   "metadata": {
    "slideshow": {
     "slide_type": "skip"
    }
   },
   "outputs": [],
   "source": [
    "import warnings\n",
    "warnings.simplefilter('ignore')"
   ]
  },
  {
   "cell_type": "markdown",
   "id": "encouraging-bulletin",
   "metadata": {
    "slideshow": {
     "slide_type": "slide"
    }
   },
   "source": [
    "# Análise de Séries Temporais com Python\n",
    "---\n",
    "\n",
    "## 8ª Conferência SciPy América Latina 2021\n",
    "\n",
    "### Wilson Freitas"
   ]
  },
  {
   "cell_type": "markdown",
   "id": "close-desire",
   "metadata": {
    "slideshow": {
     "slide_type": "slide"
    }
   },
   "source": [
    "# Wilson Freitas\n",
    "\n",
    "- físico\n",
    "- trabalha no mercado financeiro com modelagem quantitativa\n",
    "- corredor\n",
    "- padeiro"
   ]
  },
  {
   "cell_type": "markdown",
   "id": "single-daisy",
   "metadata": {
    "slideshow": {
     "slide_type": "slide"
    }
   },
   "source": [
    "# Agenda\n",
    "\n",
    "- O que são Séries Temporais?\n",
    "- Exemplos\n",
    "- Séries Temporais no pandas\n",
    "    - Datas no pandas\n",
    "    - Leitura e manipulação de Séries Temporais\n",
    "    - Resampling\n",
    "    - Janelas Móveis\n",
    "- Séries Temporais + Python"
   ]
  },
  {
   "cell_type": "markdown",
   "id": "charitable-maintenance",
   "metadata": {
    "slideshow": {
     "slide_type": "slide"
    }
   },
   "source": [
    "# O que são Séries Temporais?"
   ]
  },
  {
   "cell_type": "markdown",
   "id": "concerned-singing",
   "metadata": {
    "slideshow": {
     "slide_type": "fragment"
    }
   },
   "source": [
    "## Qualquer conjunto de dados ordenados no tempo\n",
    "\n",
    "<!-- <br>\n",
    "<br>\n",
    "<br>\n",
    "<br>\n",
    "<br>\n",
    "<div style=\"font-size: 150%; text-align: center; margin-top: 15px; margin-bottom: 15px;\">\n",
    "</div>\n",
    " -->\n",
    "<!-- - Objetivo\n",
    "    - Estudar a dinâmica das grandezas\n",
    "\n",
    "- Área abrangente que envolve:\n",
    "    - processos estocásticos lineares estacionários\n",
    "    - processos não lineares\n",
    "    - processos com heterocedasticidade condicional — Modelos de Volatilidade\n",
    "    - processos multivariados\n",
    "\n",
    "- Exemplos:\n",
    "    - preços de ações na Bolsa de Valores\n",
    "    - dados de tráfego do estado de São Paulo\n",
    "    - registro de temperatura\n",
    "    - Dados de GPS: posição, frequência cardíaca\n",
    "     -->\n",
    "\n",
    "<!-- ## >>> Trazer exemplos com gráficos -->\n"
   ]
  },
  {
   "cell_type": "code",
   "execution_count": null,
   "id": "liked-revelation",
   "metadata": {
    "slideshow": {
     "slide_type": "skip"
    }
   },
   "outputs": [],
   "source": [
    "%matplotlib inline\n",
    "import numpy as np\n",
    "import pandas as pd\n",
    "import matplotlib.pyplot as plt\n",
    "plt.rcParams['figure.figsize'] = (16.0, 6.0)\n",
    "import statsmodels.api as sm\n",
    "import statsmodels.tsa as tsa\n",
    "from bcb import sgs, currency\n",
    "import yfinance as yf\n",
    "import datetime"
   ]
  },
  {
   "cell_type": "markdown",
   "id": "legitimate-brain",
   "metadata": {
    "slideshow": {
     "slide_type": "notes"
    }
   },
   "source": [
    "# Séries Temporais\n",
    "\n",
    "- Diversas grandesas, que podem ser salvas ao longo do tempo, através de sensores ou obtidos diretamente da Internet.\n",
    "    - Dados de relógios (temperatura, frequência cardiaca, ...)\n",
    "    - Dados de clima\n",
    "    - Dados de negociação de ativos financeiros (preços, negócios, volume)\n",
    "    - Logs de rede/Acessos\n",
    "\n",
    "- Séries Temporais é uma disciplina altamente empírica.\n",
    "\n",
    "- Usa muito a **Inferência Estatística**."
   ]
  },
  {
   "cell_type": "markdown",
   "id": "dried-winning",
   "metadata": {
    "slideshow": {
     "slide_type": "slide"
    }
   },
   "source": [
    "# Exemplos"
   ]
  },
  {
   "cell_type": "markdown",
   "id": "ancient-collapse",
   "metadata": {
    "slideshow": {
     "slide_type": "subslide"
    }
   },
   "source": [
    "# Inflação\n",
    "\n",
    "- Séries Temporais de Inflação (IPCA - IBGE)\n",
    "- Dados mensais"
   ]
  },
  {
   "cell_type": "code",
   "execution_count": null,
   "id": "monetary-happening",
   "metadata": {},
   "outputs": [],
   "source": [
    "df = sgs.get(433, start_date='2000-01-01')\n",
    "df.plot();"
   ]
  },
  {
   "cell_type": "markdown",
   "id": "golden-burke",
   "metadata": {
    "slideshow": {
     "slide_type": "subslide"
    }
   },
   "source": [
    "# Vendas no Varejo\n",
    "\n",
    "- Dados mensais de vendas no varejo.\n",
    "\n",
    "- Dados de vendas costumam apresentar sazonalidade."
   ]
  },
  {
   "cell_type": "code",
   "execution_count": null,
   "id": "remarkable-setting",
   "metadata": {},
   "outputs": [],
   "source": [
    "df = pd.read_csv('data/example_retail_sales.csv')\n",
    "df['ds'] = pd.to_datetime(df['ds'])\n",
    "df.plot(x='ds', y='y');"
   ]
  },
  {
   "cell_type": "markdown",
   "id": "satellite-pierce",
   "metadata": {
    "slideshow": {
     "slide_type": "subslide"
    }
   },
   "source": [
    "# Ibovespa\n",
    "\n",
    "- O Ibovespa é o índice de ações mais importante do Brasil, com cotações diárias desde 1986.\n",
    "\n",
    "- Resultado de uma carteira teórica de ações negociadas na B3."
   ]
  },
  {
   "cell_type": "code",
   "execution_count": null,
   "id": "optical-craft",
   "metadata": {
    "slideshow": {
     "slide_type": "-"
    }
   },
   "outputs": [],
   "source": [
    "df = yf.download('^BVSP', start='2018-01-01', end='2021-11-30', progress=False)\n",
    "df['Adj Close'].plot(title='Ibovespa', xlabel='');"
   ]
  },
  {
   "cell_type": "markdown",
   "id": "impressed-capacity",
   "metadata": {
    "slideshow": {
     "slide_type": "subslide"
    }
   },
   "source": [
    "# Moedas no Mundo\n",
    "\n",
    "- Séries Temporais Multivariadas de moedas"
   ]
  },
  {
   "cell_type": "code",
   "execution_count": null,
   "id": "registered-bibliography",
   "metadata": {},
   "outputs": [],
   "source": [
    "df = currency.get(['USD', 'GBP', 'EUR', 'CAD'], start_date='2019-01-01', end_date='2021-11-01')\n",
    "df.plot();"
   ]
  },
  {
   "cell_type": "markdown",
   "id": "interesting-copyright",
   "metadata": {
    "slideshow": {
     "slide_type": "subslide"
    }
   },
   "source": [
    "# Logs do Wikipedia\n",
    "\n",
    "- Séries Temporais do log diário de page views da página da Peyton Manning (american football quarterback)"
   ]
  },
  {
   "cell_type": "code",
   "execution_count": null,
   "id": "capable-genre",
   "metadata": {},
   "outputs": [],
   "source": [
    "df = pd.read_csv('data/example_wp_log_peyton_manning.csv')\n",
    "df['ds'] = pd.to_datetime(df['ds'])\n",
    "df.plot(x='ds', y='y', style='o', ms=2);"
   ]
  },
  {
   "cell_type": "markdown",
   "id": "hawaiian-plain",
   "metadata": {
    "slideshow": {
     "slide_type": "subslide"
    }
   },
   "source": [
    "# Yosemite National Park Temperatures\n",
    "\n",
    "- Dados intradiários"
   ]
  },
  {
   "cell_type": "code",
   "execution_count": null,
   "id": "narrative-speaking",
   "metadata": {
    "slideshow": {
     "slide_type": "-"
    }
   },
   "outputs": [],
   "source": [
    "df = pd.read_csv('data/example_yosemite_temps.csv')\n",
    "df['ds'] = pd.to_datetime(df['ds'])\n",
    "df.plot(x='ds', y='y', style='o', ms=1);"
   ]
  },
  {
   "cell_type": "markdown",
   "id": "animal-sentence",
   "metadata": {
    "slideshow": {
     "slide_type": "subslide"
    }
   },
   "source": [
    "# Negócios da VALE3\n",
    "\n",
    "- Dados intradiários não regulares"
   ]
  },
  {
   "cell_type": "code",
   "execution_count": null,
   "id": "abandoned-theorem",
   "metadata": {
    "slideshow": {
     "slide_type": "-"
    }
   },
   "outputs": [],
   "source": [
    "df = pd.read_parquet('data/VALE3_trade_intraday_20211209.parquet')\n",
    "df.plot(x='time', y='price');"
   ]
  },
  {
   "cell_type": "markdown",
   "id": "turkish-repeat",
   "metadata": {
    "slideshow": {
     "slide_type": "skip"
    }
   },
   "source": [
    "### But be careful\n",
    "- http://twentytwowords.com/funny-graphs-show-correlation-between-completely-unrelated-stats-9-pictures/\n",
    "- https://www.fastcompany.com/3030529/hilarious-graphs-prove-that-correlation-isnt-causation"
   ]
  },
  {
   "attachments": {
    "image.png": {
     "image/png": "[encoded data removed]"
    }
   },
   "cell_type": "markdown",
   "id": "opponent-interest",
   "metadata": {
    "slideshow": {
     "slide_type": "skip"
    }
   },
   "source": [
    "![https://flowingdata.com/2014/05/12/random-things-that-correlate/](attachment:image.png)\n",
    "\n",
    "\n",
    "- https://flowingdata.com/2014/05/12/random-things-that-correlate/"
   ]
  },
  {
   "cell_type": "markdown",
   "id": "wound-bunch",
   "metadata": {
    "slideshow": {
     "slide_type": "slide"
    }
   },
   "source": [
    "# Como trabalhar com Séries Temporais?"
   ]
  },
  {
   "cell_type": "markdown",
   "id": "congressional-possibility",
   "metadata": {
    "slideshow": {
     "slide_type": "fragment"
    }
   },
   "source": [
    "![image.png](images/pandas-logo.png)"
   ]
  },
  {
   "cell_type": "markdown",
   "id": "sublime-private",
   "metadata": {
    "slideshow": {
     "slide_type": "subslide"
    }
   },
   "source": [
    "# pandas\n",
    "\n",
    "- Séries Temporais são DataFrames do pandas."
   ]
  },
  {
   "cell_type": "code",
   "execution_count": null,
   "id": "little-preview",
   "metadata": {},
   "outputs": [],
   "source": [
    "df = currency.get(['USD', 'GBP', 'EUR', 'CAD'], start_date='2021-11-01', end_date='2021-11-10')\n",
    "df"
   ]
  },
  {
   "cell_type": "markdown",
   "id": "south-thickness",
   "metadata": {},
   "source": [
    "- O *tempo* é o índice do DataFrame."
   ]
  },
  {
   "cell_type": "markdown",
   "id": "relative-appraisal",
   "metadata": {
    "slideshow": {
     "slide_type": "subslide"
    }
   },
   "source": [
    "- O índice pode ser transformado em uma coluna."
   ]
  },
  {
   "cell_type": "code",
   "execution_count": null,
   "id": "apart-fantasy",
   "metadata": {
    "slideshow": {
     "slide_type": "-"
    }
   },
   "outputs": [],
   "source": [
    "df.reset_index()"
   ]
  },
  {
   "cell_type": "markdown",
   "id": "dutch-combination",
   "metadata": {
    "slideshow": {
     "slide_type": "slide"
    }
   },
   "source": [
    "# Trabalhando com datas\n",
    "\n",
    "Tipos de data do pandas.\n",
    "\n",
    "1. **Date times**: Tipo data-hora semelhante a `datetime.datetime` da standard library.\n",
    "2. **Time deltas**: Tipo de duração semelhante a `datetime.timedelta` da standard library.\n",
    "3. **Time spans**: Intervalo de tempos como meses e trimestres, por exemplo.\n",
    "4. **Date offsets**: Intervalos de tempo semelhantes a `dateutil.relativedelta.relativedelta` do pacote `dateutil`.\n"
   ]
  },
  {
   "cell_type": "markdown",
   "id": "impossible-fellow",
   "metadata": {
    "slideshow": {
     "slide_type": "subslide"
    }
   },
   "source": [
    "\n",
    "<table class=\"table\">\n",
    "<colgroup>\n",
    "<col style=\"width: 15%\">\n",
    "<col style=\"width: 12%\">\n",
    "<col style=\"width: 13%\">\n",
    "<col style=\"width: 31%\">\n",
    "<col style=\"width: 28%\">\n",
    "</colgroup>\n",
    "<thead>\n",
    "<tr class=\"row-odd\"><th class=\"head\"><p>Concept</p></th>\n",
    "<th class=\"head\"><p>Scalar Class</p></th>\n",
    "<th class=\"head\"><p>Array Class</p></th>\n",
    "<th class=\"head\"><p>pandas Data Type</p></th>\n",
    "<th class=\"head\"><p>Primary Creation Method</p></th>\n",
    "</tr>\n",
    "</thead>\n",
    "<tbody>\n",
    "<tr class=\"row-even\"><td><p>Date times</p></td>\n",
    "<td><p><code class=\"docutils literal notranslate\"><span class=\"pre\">Timestamp</span></code></p></td>\n",
    "<td><p><code class=\"docutils literal notranslate\"><span class=\"pre\">DatetimeIndex</span></code></p></td>\n",
    "<td><p><code class=\"docutils literal notranslate\"><span class=\"pre\">datetime64[ns]</span></code> or <code class=\"docutils literal notranslate\"><span class=\"pre\">datetime64[ns,</span> <span class=\"pre\">tz]</span></code></p></td>\n",
    "<td><p><code class=\"docutils literal notranslate\"><span class=\"pre\">to_datetime</span></code> or <code class=\"docutils literal notranslate\"><span class=\"pre\">date_range</span></code></p></td>\n",
    "</tr>\n",
    "<tr class=\"row-odd\"><td><p>Time deltas</p></td>\n",
    "<td><p><code class=\"docutils literal notranslate\"><span class=\"pre\">Timedelta</span></code></p></td>\n",
    "<td><p><code class=\"docutils literal notranslate\"><span class=\"pre\">TimedeltaIndex</span></code></p></td>\n",
    "<td><p><code class=\"docutils literal notranslate\"><span class=\"pre\">timedelta64[ns]</span></code></p></td>\n",
    "<td><p><code class=\"docutils literal notranslate\"><span class=\"pre\">to_timedelta</span></code> or <code class=\"docutils literal notranslate\"><span class=\"pre\">timedelta_range</span></code></p></td>\n",
    "</tr>\n",
    "<tr class=\"row-even\"><td><p>Time spans</p></td>\n",
    "<td><p><code class=\"docutils literal notranslate\"><span class=\"pre\">Period</span></code></p></td>\n",
    "<td><p><code class=\"docutils literal notranslate\"><span class=\"pre\">PeriodIndex</span></code></p></td>\n",
    "<td><p><code class=\"docutils literal notranslate\"><span class=\"pre\">period[freq]</span></code></p></td>\n",
    "<td><p><code class=\"docutils literal notranslate\"><span class=\"pre\">Period</span></code> or <code class=\"docutils literal notranslate\"><span class=\"pre\">period_range</span></code></p></td>\n",
    "</tr>\n",
    "<tr class=\"row-odd\"><td><p>Date offsets</p></td>\n",
    "<td><p><code class=\"docutils literal notranslate\"><span class=\"pre\">DateOffset</span></code></p></td>\n",
    "<td><p><code class=\"docutils literal notranslate\"><span class=\"pre\">None</span></code></p></td>\n",
    "<td><p><code class=\"docutils literal notranslate\"><span class=\"pre\">None</span></code></p></td>\n",
    "<td><p><code class=\"docutils literal notranslate\"><span class=\"pre\">DateOffset</span></code></p></td>\n",
    "</tr>\n",
    "</tbody>\n",
    "</table>\n",
    "\n",
    "- [Time series / date functionality - pandas documentation](https://pandas.pydata.org/pandas-docs/stable/user_guide/timeseries.html)"
   ]
  },
  {
   "cell_type": "markdown",
   "id": "finnish-curtis",
   "metadata": {
    "slideshow": {
     "slide_type": "subslide"
    }
   },
   "source": [
    "# Timestamp\n",
    "\n",
    "- `Timestamp` is a scalar type that represents a single time stamp."
   ]
  },
  {
   "cell_type": "code",
   "execution_count": null,
   "id": "sharp-response",
   "metadata": {
    "slideshow": {
     "slide_type": "fragment"
    }
   },
   "outputs": [],
   "source": [
    "pd.to_datetime('2021-11-21') # ISO format always works"
   ]
  },
  {
   "cell_type": "code",
   "execution_count": null,
   "id": "individual-soccer",
   "metadata": {
    "slideshow": {
     "slide_type": "fragment"
    }
   },
   "outputs": [],
   "source": [
    "pd.to_datetime('11/12/2021')"
   ]
  },
  {
   "cell_type": "code",
   "execution_count": null,
   "id": "lyric-vinyl",
   "metadata": {
    "slideshow": {
     "slide_type": "fragment"
    }
   },
   "outputs": [],
   "source": [
    "pd.to_datetime('12/11/2021', dayfirst=True)"
   ]
  },
  {
   "cell_type": "code",
   "execution_count": null,
   "id": "intellectual-produce",
   "metadata": {
    "slideshow": {
     "slide_type": "fragment"
    }
   },
   "outputs": [],
   "source": [
    "pd.to_datetime('12/14/2021', dayfirst=True) # dayfirst isn't strict"
   ]
  },
  {
   "cell_type": "code",
   "execution_count": null,
   "id": "seventh-appeal",
   "metadata": {
    "slideshow": {
     "slide_type": "fragment"
    }
   },
   "outputs": [],
   "source": [
    "pd.to_datetime('December 11, 2021') # it also parses long dates"
   ]
  },
  {
   "cell_type": "markdown",
   "id": "timely-america",
   "metadata": {
    "slideshow": {
     "slide_type": "subslide"
    }
   },
   "source": [
    "# Timestamp"
   ]
  },
  {
   "cell_type": "code",
   "execution_count": null,
   "id": "extreme-revolution",
   "metadata": {
    "slideshow": {
     "slide_type": "fragment"
    }
   },
   "outputs": [],
   "source": [
    "pd.to_datetime('2021-11-21 13:00:00') # ISO format always works"
   ]
  },
  {
   "cell_type": "code",
   "execution_count": null,
   "id": "miniature-monte",
   "metadata": {
    "slideshow": {
     "slide_type": "fragment"
    }
   },
   "outputs": [],
   "source": [
    "pd.to_datetime('11/12/2021 13:00')"
   ]
  },
  {
   "cell_type": "code",
   "execution_count": null,
   "id": "mechanical-narrow",
   "metadata": {
    "slideshow": {
     "slide_type": "fragment"
    }
   },
   "outputs": [],
   "source": [
    "pd.to_datetime('12/11/2021 13', dayfirst=True)"
   ]
  },
  {
   "cell_type": "code",
   "execution_count": null,
   "id": "respiratory-david",
   "metadata": {
    "slideshow": {
     "slide_type": "fragment"
    }
   },
   "outputs": [],
   "source": [
    "pd.to_datetime(datetime.datetime(2021, 12, 14, 13)) # also accepts datetime.datetime"
   ]
  },
  {
   "cell_type": "markdown",
   "id": "unlikely-extra",
   "metadata": {
    "slideshow": {
     "slide_type": "subslide"
    }
   },
   "source": [
    "# Timestamp NULL type\n",
    "\n",
    "- `pd.NaT` represents null date times, time deltas, and time spans.\n",
    "\n",
    "- Useful for representing missing or null date like values."
   ]
  },
  {
   "cell_type": "code",
   "execution_count": null,
   "id": "supposed-papua",
   "metadata": {
    "slideshow": {
     "slide_type": "-"
    }
   },
   "outputs": [],
   "source": [
    "pd.Timestamp(None)"
   ]
  },
  {
   "cell_type": "code",
   "execution_count": null,
   "id": "concerned-priority",
   "metadata": {},
   "outputs": [],
   "source": [
    "pd.to_datetime(pd.NaT)"
   ]
  },
  {
   "cell_type": "code",
   "execution_count": null,
   "id": "supported-consortium",
   "metadata": {},
   "outputs": [],
   "source": [
    "pd.to_datetime(pd.NaT) == pd.NaT"
   ]
  },
  {
   "cell_type": "markdown",
   "id": "hearing-polymer",
   "metadata": {
    "slideshow": {
     "slide_type": "subslide"
    }
   },
   "source": [
    "# Timestamp as array"
   ]
  },
  {
   "cell_type": "code",
   "execution_count": null,
   "id": "manufactured-foundation",
   "metadata": {
    "slideshow": {
     "slide_type": "fragment"
    }
   },
   "outputs": [],
   "source": [
    "pd.to_datetime(['2021 Dec 14', '14/12/2021', '12/14/2021', 'December 14, 2021',\n",
    "                '2021-12-14', '2021/12/14', None], dayfirst=True)"
   ]
  },
  {
   "cell_type": "code",
   "execution_count": null,
   "id": "grateful-visitor",
   "metadata": {
    "slideshow": {
     "slide_type": "fragment"
    }
   },
   "outputs": [],
   "source": [
    "pd.to_datetime(pd.Series(['2021 Dec 14', '14/12/2021', '12/14/2021', 'December 14, 2021',\n",
    "                '2021-12-14', '2021/12/14', None]), dayfirst=True)"
   ]
  },
  {
   "cell_type": "markdown",
   "id": "french-mambo",
   "metadata": {
    "slideshow": {
     "slide_type": "subslide"
    }
   },
   "source": [
    "# Generating ranges of time stamps\n",
    "\n",
    "- `date_range` generates DatetimeIndex"
   ]
  },
  {
   "cell_type": "code",
   "execution_count": null,
   "id": "welsh-importance",
   "metadata": {
    "slideshow": {
     "slide_type": "fragment"
    }
   },
   "outputs": [],
   "source": [
    "pd.date_range('2021-12-01', '2021-12-11')"
   ]
  },
  {
   "cell_type": "code",
   "execution_count": null,
   "id": "focused-liberia",
   "metadata": {
    "slideshow": {
     "slide_type": "fragment"
    }
   },
   "outputs": [],
   "source": [
    "pd.date_range('2021-12-01', periods=5) # daily ranges"
   ]
  },
  {
   "cell_type": "code",
   "execution_count": null,
   "id": "legal-borough",
   "metadata": {
    "slideshow": {
     "slide_type": "fragment"
    }
   },
   "outputs": [],
   "source": [
    "pd.date_range('2021-12-01', periods=5, freq='M') # monthly ranges"
   ]
  },
  {
   "cell_type": "markdown",
   "id": "detected-induction",
   "metadata": {
    "slideshow": {
     "slide_type": "subslide"
    }
   },
   "source": [
    "# Generating ranges of time stamps\n",
    "\n"
   ]
  },
  {
   "cell_type": "code",
   "execution_count": null,
   "id": "capable-psychiatry",
   "metadata": {
    "slideshow": {
     "slide_type": "fragment"
    }
   },
   "outputs": [],
   "source": [
    "pd.date_range('2021-12-01', '2021-12-11', freq='B') # only business days"
   ]
  },
  {
   "cell_type": "code",
   "execution_count": null,
   "id": "failing-beauty",
   "metadata": {
    "slideshow": {
     "slide_type": "fragment"
    }
   },
   "outputs": [],
   "source": [
    "pd.date_range('2021-12-01', periods=5, freq='BM') # business days for month end frequency"
   ]
  },
  {
   "cell_type": "code",
   "execution_count": null,
   "id": "instant-delta",
   "metadata": {
    "slideshow": {
     "slide_type": "fragment"
    }
   },
   "outputs": [],
   "source": [
    "pd.date_range('2021-12-01', periods=5, freq='BMS') # business days for monthly start frequency"
   ]
  },
  {
   "cell_type": "markdown",
   "id": "minor-headline",
   "metadata": {
    "slideshow": {
     "slide_type": "subslide"
    }
   },
   "source": [
    "# Supported frequencies (`freq` argument)\n",
    "\n",
    "<table class=\"colwidths-given table\">\n",
    "<colgroup>\n",
    "<col style=\"width: 13%\">\n",
    "<col style=\"width: 87%\">\n",
    "</colgroup>\n",
    "<thead>\n",
    "<tr class=\"row-odd\"><th class=\"head\"><p>Alias</p></th>\n",
    "<th class=\"head\"><p>Description</p></th>\n",
    "</tr>\n",
    "</thead>\n",
    "<tbody>\n",
    "<tr class=\"row-even\"><td><p>B</p></td>\n",
    "<td><p>business day frequency</p></td>\n",
    "</tr>\n",
    "<tr class=\"row-odd\"><td><p>C</p></td>\n",
    "<td><p>custom business day frequency</p></td>\n",
    "</tr>\n",
    "<tr class=\"row-even\"><td><p>D</p></td>\n",
    "<td><p>calendar day frequency</p></td>\n",
    "</tr>\n",
    "<tr class=\"row-odd\"><td><p>W</p></td>\n",
    "<td><p>weekly frequency</p></td>\n",
    "</tr>\n",
    "<tr class=\"row-even\"><td><p>M</p></td>\n",
    "<td><p>month end frequency</p></td>\n",
    "</tr>\n",
    "<tr class=\"row-odd\"><td><p>SM</p></td>\n",
    "<td><p>semi-month end frequency (15th and end of month)</p></td>\n",
    "</tr>\n",
    "<tr class=\"row-even\"><td><p>BM</p></td>\n",
    "<td><p>business month end frequency</p></td>\n",
    "</tr>\n",
    "<tr class=\"row-odd\"><td><p>CBM</p></td>\n",
    "<td><p>custom business month end frequency</p></td>\n",
    "</tr>\n",
    "<tr class=\"row-even\"><td><p>MS</p></td>\n",
    "<td><p>month start frequency</p></td>\n",
    "</tr>\n",
    "<tr class=\"row-odd\"><td><p>SMS</p></td>\n",
    "<td><p>semi-month start frequency (1st and 15th)</p></td>\n",
    "</tr>\n",
    "<tr class=\"row-even\"><td><p>BMS</p></td>\n",
    "<td><p>business month start frequency</p></td>\n",
    "</tr>\n",
    "<tr class=\"row-odd\"><td><p>CBMS</p></td>\n",
    "<td><p>custom business month start frequency</p></td>\n",
    "</tr>\n",
    "<tr class=\"row-even\"><td><p>Q</p></td>\n",
    "<td><p>quarter end frequency</p></td>\n",
    "</tr>\n",
    "<tr class=\"row-odd\"><td><p>BQ</p></td>\n",
    "<td><p>business quarter end frequency</p></td>\n",
    "</tr>\n",
    "<tr class=\"row-even\"><td><p>QS</p></td>\n",
    "<td><p>quarter start frequency</p></td>\n",
    "</tr>\n",
    "<tr class=\"row-odd\"><td><p>BQS</p></td>\n",
    "<td><p>business quarter start frequency</p></td>\n",
    "</tr>\n",
    "<tr class=\"row-even\"><td><p>A, Y</p></td>\n",
    "<td><p>year end frequency</p></td>\n",
    "</tr>\n",
    "<tr class=\"row-odd\"><td><p>BA, BY</p></td>\n",
    "<td><p>business year end frequency</p></td>\n",
    "</tr>\n",
    "<tr class=\"row-even\"><td><p>AS, YS</p></td>\n",
    "<td><p>year start frequency</p></td>\n",
    "</tr>\n",
    "<tr class=\"row-odd\"><td><p>BAS, BYS</p></td>\n",
    "<td><p>business year start frequency</p></td>\n",
    "</tr>\n",
    "<tr class=\"row-even\"><td><p>BH</p></td>\n",
    "<td><p>business hour frequency</p></td>\n",
    "</tr>\n",
    "<tr class=\"row-odd\"><td><p>H</p></td>\n",
    "<td><p>hourly frequency</p></td>\n",
    "</tr>\n",
    "<tr class=\"row-even\"><td><p>T, min</p></td>\n",
    "<td><p>minutely frequency</p></td>\n",
    "</tr>\n",
    "<tr class=\"row-odd\"><td><p>S</p></td>\n",
    "<td><p>secondly frequency</p></td>\n",
    "</tr>\n",
    "<tr class=\"row-even\"><td><p>L, ms</p></td>\n",
    "<td><p>milliseconds</p></td>\n",
    "</tr>\n",
    "<tr class=\"row-odd\"><td><p>U, us</p></td>\n",
    "<td><p>microseconds</p></td>\n",
    "</tr>\n",
    "<tr class=\"row-even\"><td><p>N</p></td>\n",
    "<td><p>nanoseconds</p></td>\n",
    "</tr>\n",
    "</tbody>\n",
    "</table>"
   ]
  },
  {
   "cell_type": "markdown",
   "id": "handmade-pickup",
   "metadata": {
    "slideshow": {
     "slide_type": "subslide"
    }
   },
   "source": [
    "# Period (time spans)\n",
    "\n",
    "- The span represented by Period can be specified explicitly, or inferred from datetime string format."
   ]
  },
  {
   "cell_type": "code",
   "execution_count": null,
   "id": "indoor-financing",
   "metadata": {
    "slideshow": {
     "slide_type": "fragment"
    }
   },
   "outputs": [],
   "source": [
    "pd.Period('2021-11')"
   ]
  },
  {
   "cell_type": "code",
   "execution_count": null,
   "id": "informed-massachusetts",
   "metadata": {
    "slideshow": {
     "slide_type": "fragment"
    }
   },
   "outputs": [],
   "source": [
    "pd.Period(2021)"
   ]
  },
  {
   "cell_type": "code",
   "execution_count": null,
   "id": "oriental-armenia",
   "metadata": {
    "slideshow": {
     "slide_type": "fragment"
    }
   },
   "outputs": [],
   "source": [
    "pd.Period(2021, freq='D')"
   ]
  },
  {
   "cell_type": "code",
   "execution_count": null,
   "id": "middle-arctic",
   "metadata": {
    "slideshow": {
     "slide_type": "fragment"
    }
   },
   "outputs": [],
   "source": [
    "pd.period_range('2021', freq='Y', periods=6)"
   ]
  },
  {
   "cell_type": "code",
   "execution_count": null,
   "id": "driven-prague",
   "metadata": {
    "slideshow": {
     "slide_type": "fragment"
    }
   },
   "outputs": [],
   "source": [
    "pd.period_range('2021', freq='M', periods=6)"
   ]
  },
  {
   "cell_type": "markdown",
   "id": "civil-accuracy",
   "metadata": {
    "slideshow": {
     "slide_type": "subslide"
    }
   },
   "source": [
    "# Timezone"
   ]
  },
  {
   "cell_type": "code",
   "execution_count": null,
   "id": "polyphonic-summary",
   "metadata": {},
   "outputs": [],
   "source": [
    "pd.date_range('2021-12-01 18', periods=12, freq='1H')"
   ]
  },
  {
   "cell_type": "code",
   "execution_count": null,
   "id": "confident-acrylic",
   "metadata": {},
   "outputs": [],
   "source": [
    "pd.date_range('2021-12-01 18', periods=12, freq='1H', tz='UTC')"
   ]
  },
  {
   "cell_type": "code",
   "execution_count": null,
   "id": "animal-tsunami",
   "metadata": {},
   "outputs": [],
   "source": [
    "pd.date_range('2021-12-01 18', periods=12, freq='1H', tz='UTC').tz_convert('America/Sao_Paulo')"
   ]
  },
  {
   "cell_type": "markdown",
   "id": "convinced-arctic",
   "metadata": {
    "slideshow": {
     "slide_type": "slide"
    }
   },
   "source": [
    "# Carregando dados"
   ]
  },
  {
   "cell_type": "markdown",
   "id": "musical-balance",
   "metadata": {
    "slideshow": {
     "slide_type": "fragment"
    }
   },
   "source": [
    "- Carregar os dados"
   ]
  },
  {
   "cell_type": "code",
   "execution_count": null,
   "id": "preceding-proof",
   "metadata": {
    "cell_style": "center",
    "slideshow": {
     "slide_type": "-"
    }
   },
   "outputs": [],
   "source": [
    "df = pd.read_csv('data/example_retail_sales.csv')\n",
    "df.dtypes"
   ]
  },
  {
   "cell_type": "markdown",
   "id": "studied-passion",
   "metadata": {
    "slideshow": {
     "slide_type": "fragment"
    }
   },
   "source": [
    "- Formatar os dados"
   ]
  },
  {
   "cell_type": "code",
   "execution_count": null,
   "id": "further-pound",
   "metadata": {
    "cell_style": "center"
   },
   "outputs": [],
   "source": [
    "df['ds'] = pd.to_datetime(df['ds'])\n",
    "df.dtypes"
   ]
  },
  {
   "cell_type": "markdown",
   "id": "binary-ghost",
   "metadata": {
    "slideshow": {
     "slide_type": "subslide"
    }
   },
   "source": [
    "- Definir o índice"
   ]
  },
  {
   "cell_type": "code",
   "execution_count": null,
   "id": "outside-fruit",
   "metadata": {},
   "outputs": [],
   "source": [
    "df = df.set_index('ds')\n",
    "df.head()"
   ]
  },
  {
   "cell_type": "markdown",
   "id": "convertible-murray",
   "metadata": {
    "slideshow": {
     "slide_type": "subslide"
    }
   },
   "source": [
    "# Carregando dados com Time spans"
   ]
  },
  {
   "cell_type": "markdown",
   "id": "returning-swaziland",
   "metadata": {
    "slideshow": {
     "slide_type": "fragment"
    }
   },
   "source": [
    "- Carregar os dados"
   ]
  },
  {
   "cell_type": "code",
   "execution_count": null,
   "id": "fiscal-minneapolis",
   "metadata": {},
   "outputs": [],
   "source": [
    "df = pd.read_csv('data/champagne_sales.csv')\n",
    "df.dtypes"
   ]
  },
  {
   "cell_type": "markdown",
   "id": "metropolitan-latex",
   "metadata": {
    "slideshow": {
     "slide_type": "fragment"
    }
   },
   "source": [
    "- Formatar os dados"
   ]
  },
  {
   "cell_type": "code",
   "execution_count": null,
   "id": "potential-closer",
   "metadata": {},
   "outputs": [],
   "source": [
    "df['Month'] = pd.PeriodIndex(df['Month'], freq='M')\n",
    "df['Month'].head()"
   ]
  },
  {
   "cell_type": "markdown",
   "id": "focused-director",
   "metadata": {
    "slideshow": {
     "slide_type": "subslide"
    }
   },
   "source": [
    "- Definir o índice"
   ]
  },
  {
   "cell_type": "code",
   "execution_count": null,
   "id": "north-namibia",
   "metadata": {},
   "outputs": [],
   "source": [
    "dfi = df.set_index('Month')\n",
    "dfi.head()"
   ]
  },
  {
   "cell_type": "markdown",
   "id": "included-thirty",
   "metadata": {
    "slideshow": {
     "slide_type": "subslide"
    }
   },
   "source": [
    "# Trabalhando com timezones"
   ]
  },
  {
   "cell_type": "code",
   "execution_count": null,
   "id": "streaming-screw",
   "metadata": {
    "slideshow": {
     "slide_type": "fragment"
    }
   },
   "outputs": [],
   "source": [
    "df = pd.read_csv('data/example_yosemite_temps.csv')\n",
    "df.head()"
   ]
  },
  {
   "cell_type": "code",
   "execution_count": null,
   "id": "solar-fiction",
   "metadata": {
    "slideshow": {
     "slide_type": "fragment"
    }
   },
   "outputs": [],
   "source": [
    "df['ds'] = pd.DatetimeIndex(df['ds'], tz='US/Alaska')\n",
    "df.head()"
   ]
  },
  {
   "cell_type": "code",
   "execution_count": null,
   "id": "lesbian-guitar",
   "metadata": {
    "slideshow": {
     "slide_type": "subslide"
    }
   },
   "outputs": [],
   "source": [
    "df.set_index('ds').head()"
   ]
  },
  {
   "cell_type": "markdown",
   "id": "neither-richardson",
   "metadata": {
    "slideshow": {
     "slide_type": "slide"
    }
   },
   "source": [
    "# Resampling\n",
    "\n",
    "- Converter as Séries Temporais em diferentes frequências.\n",
    "\n",
    "<!-- - \n",
    "Returns the original data conformed to a new index with the specified frequency.\n",
    "\n",
    "If the index of this DataFrame is a PeriodIndex, the new index is the result of transforming the original index with PeriodIndex.asfreq (so the original index will map one-to-one to the new index).\n",
    "\n",
    "Otherwise, the new index will be equivalent to pd.date_range(start, end, freq=freq) where start and end are, respectively, the first and last entries in the original index (see pandas.date_range()). The values corresponding to any timesteps in the new index which were not present in the original index will be null (NaN), unless a method for filling such unknowns is provided (see the method parameter below).\n",
    " -->"
   ]
  },
  {
   "cell_type": "code",
   "execution_count": null,
   "id": "antique-gothic",
   "metadata": {
    "cell_style": "center",
    "slideshow": {
     "slide_type": "fragment"
    }
   },
   "outputs": [],
   "source": [
    "df = pd.read_csv('data/example_wp_log_peyton_manning.csv')\n",
    "df['ds'] = pd.to_datetime(df['ds'])\n",
    "dfi = df.set_index('ds')\n",
    "dfi.shape"
   ]
  },
  {
   "cell_type": "markdown",
   "id": "flexible-aquarium",
   "metadata": {
    "slideshow": {
     "slide_type": "fragment"
    }
   },
   "source": [
    "- O método `asfreq` retorna um DataFrame com os dados na frequência especificada."
   ]
  },
  {
   "cell_type": "code",
   "execution_count": null,
   "id": "oriental-habitat",
   "metadata": {
    "slideshow": {
     "slide_type": "-"
    }
   },
   "outputs": [],
   "source": [
    "dfw = dfi.asfreq('1W')\n",
    "dfw.shape"
   ]
  },
  {
   "cell_type": "code",
   "execution_count": null,
   "id": "aerial-litigation",
   "metadata": {
    "slideshow": {
     "slide_type": "subslide"
    }
   },
   "outputs": [],
   "source": [
    "dfw.head()"
   ]
  },
  {
   "cell_type": "code",
   "execution_count": null,
   "id": "olympic-happening",
   "metadata": {
    "slideshow": {
     "slide_type": "-"
    }
   },
   "outputs": [],
   "source": [
    "ax = dfi.plot(alpha=0.5)\n",
    "dfw.plot(ax=ax);"
   ]
  },
  {
   "cell_type": "markdown",
   "id": "damaged-rwanda",
   "metadata": {
    "slideshow": {
     "slide_type": "subslide"
    }
   },
   "source": [
    "# Resampling with `resample`"
   ]
  },
  {
   "cell_type": "code",
   "execution_count": null,
   "id": "operational-instrumentation",
   "metadata": {
    "slideshow": {
     "slide_type": "fragment"
    }
   },
   "outputs": [],
   "source": [
    "df = pd.read_csv('data/champagne_sales.csv')\n",
    "df['Month'] = pd.PeriodIndex(df['Month'], freq='M')\n",
    "dfi = df.set_index('Month')"
   ]
  },
  {
   "cell_type": "markdown",
   "id": "verified-messaging",
   "metadata": {
    "slideshow": {
     "slide_type": "fragment"
    }
   },
   "source": [
    "- O método `resample` reagrupa os dados na frequência especificada."
   ]
  },
  {
   "cell_type": "code",
   "execution_count": null,
   "id": "executed-medicine",
   "metadata": {},
   "outputs": [],
   "source": [
    "dfm = dfi.resample('Y').mean()\n",
    "dfm"
   ]
  },
  {
   "cell_type": "code",
   "execution_count": null,
   "id": "overall-cherry",
   "metadata": {
    "slideshow": {
     "slide_type": "subslide"
    }
   },
   "outputs": [],
   "source": [
    "dfs = dfi.resample('Y').std()\n",
    "dfm.merge(dfs, left_index=True, right_index=True, suffixes=('_mean', '_std'))"
   ]
  },
  {
   "cell_type": "markdown",
   "id": "determined-alaska",
   "metadata": {
    "slideshow": {
     "slide_type": "slide"
    }
   },
   "source": [
    "# Análise em Janelas Móveis\n",
    "\n",
    "- Fazer a avaliação de uma estatística em datasets de tamanho específico avançando no tempo."
   ]
  },
  {
   "cell_type": "code",
   "execution_count": null,
   "id": "satisfactory-houston",
   "metadata": {},
   "outputs": [],
   "source": [
    "df = pd.read_csv('data/example_wp_log_peyton_manning.csv')\n",
    "df['ds'] = pd.to_datetime(df['ds'])\n",
    "dfi = df.set_index('ds')"
   ]
  },
  {
   "cell_type": "markdown",
   "id": "acting-combat",
   "metadata": {
    "slideshow": {
     "slide_type": "fragment"
    }
   },
   "source": [
    "- O método `rolling` faz o agrupamento das séries na janela especificada."
   ]
  },
  {
   "cell_type": "code",
   "execution_count": null,
   "id": "illegal-stamp",
   "metadata": {},
   "outputs": [],
   "source": [
    "rw = dfi.rolling(window=30)"
   ]
  },
  {
   "cell_type": "code",
   "execution_count": null,
   "id": "aware-absorption",
   "metadata": {
    "slideshow": {
     "slide_type": "fragment"
    }
   },
   "outputs": [],
   "source": [
    "dfi.plot(alpha=0.5)\n",
    "rw.mean()['y'].plot();"
   ]
  },
  {
   "cell_type": "code",
   "execution_count": null,
   "id": "geological-advertising",
   "metadata": {
    "slideshow": {
     "slide_type": "subslide"
    }
   },
   "outputs": [],
   "source": [
    "dfi.asfreq('W').plot(alpha=0.5)\n",
    "rw.mean()['y'].plot();"
   ]
  },
  {
   "cell_type": "markdown",
   "id": "rotary-least",
   "metadata": {
    "slideshow": {
     "slide_type": "subslide"
    }
   },
   "source": [
    "# Médias Móveis em Análise Técnica\n",
    "\n",
    "- As médias móveis dos preços de ações são utilizados em Análise Técnica de Investimentos na identificação de oportunidades de compra e venda."
   ]
  },
  {
   "cell_type": "code",
   "execution_count": null,
   "id": "domestic-webcam",
   "metadata": {
    "slideshow": {
     "slide_type": "-"
    }
   },
   "outputs": [],
   "source": [
    "df = yf.download('^BVSP', start='2020-07-01', end='2021-11-30', progress=False)\n",
    "close = df['Adj Close']"
   ]
  },
  {
   "cell_type": "markdown",
   "id": "played-symphony",
   "metadata": {
    "slideshow": {
     "slide_type": "fragment"
    }
   },
   "source": [
    "- Calculamos as médias móveis\n",
    "    - 5 dias úteis (aprox. 1 semana)\n",
    "    - 21 dias úteis (apox. 1 mês)"
   ]
  },
  {
   "cell_type": "code",
   "execution_count": null,
   "id": "affecting-college",
   "metadata": {},
   "outputs": [],
   "source": [
    "mm5 = close.rolling(window=5).mean()\n",
    "mm21 = close.rolling(window=21).mean()"
   ]
  },
  {
   "cell_type": "code",
   "execution_count": null,
   "id": "latest-overview",
   "metadata": {
    "slideshow": {
     "slide_type": "subslide"
    }
   },
   "outputs": [],
   "source": [
    "close.plot(alpha=0.5)\n",
    "mm5.plot()\n",
    "mm21.plot();"
   ]
  },
  {
   "cell_type": "markdown",
   "id": "criminal-funeral",
   "metadata": {},
   "source": [
    "# Estratégia\n",
    "\n",
    "- Média móvel curta indica tendência de curto prazo.\n",
    "- Média móvel longa indica tendência de longo prazo.\n",
    "- Quando a média móvel curva cruza a longa, *acredita-se* que há uma inversão de tendência.\n",
    "    - Essa inversão de tendência indica oportunidade de compra ou venda."
   ]
  },
  {
   "cell_type": "markdown",
   "id": "occasional-general",
   "metadata": {
    "slideshow": {
     "slide_type": "subslide"
    }
   },
   "source": [
    "# Identificando outliers\n",
    "\n",
    "- Algumas séries de ações apresentam variações diárias muito discrepantes.\n",
    "\n",
    "- Isso em geral está relacionado a algum evento externo e não diretamente a negociação.\n",
    "\n",
    "- Dessa maneira, é necessário mapear estes eventos para avaliar o tratamento dados aos ativos."
   ]
  },
  {
   "cell_type": "code",
   "execution_count": null,
   "id": "concerned-trust",
   "metadata": {
    "slideshow": {
     "slide_type": "subslide"
    }
   },
   "outputs": [],
   "source": [
    "series = yf.download('WIZS3.SA', start='2015-01-01', end='2021-11-30', progress=False)\n",
    "close = series['Adj Close']\n",
    "ret = close.pct_change()\n",
    "ret.plot(xlabel='');"
   ]
  },
  {
   "cell_type": "markdown",
   "id": "mature-suspension",
   "metadata": {},
   "source": [
    "- Note que temos variações diárias em torno de 20% para algumas datas."
   ]
  },
  {
   "cell_type": "markdown",
   "id": "african-walnut",
   "metadata": {
    "slideshow": {
     "slide_type": "subslide"
    }
   },
   "source": [
    "- Utilizamos a distribuição t-Studend para as variações diárias.\n",
    "\n",
    "- Estimamos os parâmetros da distribuição em uma janela móvel de 756 dias úteis (aprox. 3 anos).\n",
    "\n",
    "- Avaliamos a evolução das estimativas dos graus de liberdade da distribuição."
   ]
  },
  {
   "cell_type": "code",
   "execution_count": null,
   "id": "handled-evidence",
   "metadata": {
    "slideshow": {
     "slide_type": "fragment"
    }
   },
   "outputs": [],
   "source": [
    "from scipy.stats import t"
   ]
  },
  {
   "cell_type": "code",
   "execution_count": null,
   "id": "otherwise-ireland",
   "metadata": {},
   "outputs": [],
   "source": [
    "rw = ret.rolling(window=756)\n",
    "ret_tdf = rw.apply(lambda x: t.fit(x.values)[0]).dropna()\n",
    "ret_std = np.sqrt(252) * rw.std().dropna()"
   ]
  },
  {
   "cell_type": "code",
   "execution_count": null,
   "id": "other-culture",
   "metadata": {
    "slideshow": {
     "slide_type": "subslide"
    }
   },
   "outputs": [],
   "source": [
    "ax = ret_tdf.plot(figsize=(16, 3))\n",
    "ax.set_title('Graus de Liberdade Distribuição t-Student');\n",
    "plt.axhline(3, color='grey');"
   ]
  },
  {
   "cell_type": "code",
   "execution_count": null,
   "id": "alike-cleanup",
   "metadata": {
    "slideshow": {
     "slide_type": "-"
    }
   },
   "outputs": [],
   "source": [
    "ax = ret.loc[ret_std.index].plot(figsize=(16, 3));\n",
    "ret_std.plot()\n",
    "ax.set_title('Evolução do Desvio Padrão');"
   ]
  },
  {
   "cell_type": "markdown",
   "id": "controlled-marking",
   "metadata": {},
   "source": [
    "- Tipicamente o parâmetro de graus de liberdade não apresenta valores menores que 3, logo, quando isso acontece, requer uma avaliação."
   ]
  },
  {
   "cell_type": "markdown",
   "id": "manufactured-bosnia",
   "metadata": {
    "cell_style": "center",
    "slideshow": {
     "slide_type": "skip"
    }
   },
   "source": [
    "# Expanding"
   ]
  },
  {
   "cell_type": "code",
   "execution_count": null,
   "id": "fossil-migration",
   "metadata": {
    "slideshow": {
     "slide_type": "skip"
    }
   },
   "outputs": [],
   "source": [
    "df = pd.DataFrame(np.random.randn(720, 3), index = pd.date_range('2020-01-01', freq='D', periods=720), columns = ['A', 'B', 'C'])\n",
    "df.head()"
   ]
  },
  {
   "cell_type": "code",
   "execution_count": null,
   "id": "ruled-break",
   "metadata": {
    "slideshow": {
     "slide_type": "skip"
    }
   },
   "outputs": [],
   "source": [
    "df.expanding(min_periods = 1).mean().plot()"
   ]
  },
  {
   "cell_type": "markdown",
   "id": "removed-berlin",
   "metadata": {
    "slideshow": {
     "slide_type": "slide"
    }
   },
   "source": [
    "# Séries Temporais + Python"
   ]
  },
  {
   "cell_type": "markdown",
   "id": "metallic-wrong",
   "metadata": {
    "slideshow": {
     "slide_type": "subslide"
    }
   },
   "source": [
    "# `statsmodels`\n",
    "\n",
    "https://www.statsmodels.org/\n",
    "\n",
    "- Um pacote que implementa diversos modelos de estimação, testes estatísticos e funções para exploração de dados.\n",
    "\n",
    "- É um pacote com um forte viés para quem pratica Econometria.\n",
    "    - Implementa diversos modelos de regressão multivariada.\n",
    "    \n",
    "- É bastante influenciado pelo R.\n",
    "\n",
    "<!-- - Linear regression models\n",
    "- Generalized linear models\n",
    "- Discrete choice models\n",
    "- Robust linear models\n",
    "- Many models and functions for time series analysis\n",
    "- Nonparametric estimators\n",
    "- A collection of datasets for examples\n",
    "- A wide range of statistical tests\n",
    "- Input-output tools for producing tables in a number of formats (Text, LaTex, HTML) and for reading Stata files into NumPy and Pandas.\n",
    "- Plotting functions\n",
    "- Extensive unit tests to ensure correctness of results -->"
   ]
  },
  {
   "cell_type": "markdown",
   "id": "intelligent-paradise",
   "metadata": {
    "slideshow": {
     "slide_type": "subslide"
    }
   },
   "source": [
    "# Exemplo: Regressão Linear por Mínimos Quadrados Ordinários"
   ]
  },
  {
   "cell_type": "code",
   "execution_count": null,
   "id": "based-recipient",
   "metadata": {
    "slideshow": {
     "slide_type": "subslide"
    }
   },
   "outputs": [],
   "source": [
    "series = yf.download(['ITUB4.SA', '^BVSP'], start='2018-01-01', end='2021-11-30', progress=False)\n",
    "close = series['Adj Close'].rename(columns={'^BVSP': 'IBOVESPA', 'ITUB4.SA': 'ITUB4'})\n",
    "ret = close.pct_change().dropna()\n",
    "ret.plot(x='IBOVESPA', y='ITUB4', style='o', xlabel='IBOVESPA', ylabel='ITUB4', legend=None, alpha=0.5, ms=3);"
   ]
  },
  {
   "cell_type": "code",
   "execution_count": null,
   "id": "concrete-garden",
   "metadata": {
    "slideshow": {
     "slide_type": "subslide"
    }
   },
   "outputs": [],
   "source": [
    "import statsmodels.api as sm\n",
    "import statsmodels.formula.api as smf"
   ]
  },
  {
   "cell_type": "code",
   "execution_count": null,
   "id": "drawn-image",
   "metadata": {
    "slideshow": {
     "slide_type": "fragment"
    }
   },
   "outputs": [],
   "source": [
    "model = smf.ols('ITUB4 ~ IBOVESPA', data=ret)\n",
    "results = model.fit()"
   ]
  },
  {
   "cell_type": "code",
   "execution_count": null,
   "id": "choice-potato",
   "metadata": {
    "slideshow": {
     "slide_type": "fragment"
    }
   },
   "outputs": [],
   "source": [
    "print(results.summary())"
   ]
  },
  {
   "cell_type": "code",
   "execution_count": null,
   "id": "frank-bruce",
   "metadata": {
    "slideshow": {
     "slide_type": "subslide"
    }
   },
   "outputs": [],
   "source": [
    "fig, ax = plt.subplots()\n",
    "ax.plot(ret['IBOVESPA'], ret['ITUB4'], 'o', label='data', alpha=0.5, ms=3)\n",
    "pred_ols = results.get_prediction()\n",
    "ax.plot(ret['IBOVESPA'], results.fittedvalues, \"r-\", label=\"OLS\")\n",
    "ax.legend(loc=\"best\");"
   ]
  },
  {
   "cell_type": "markdown",
   "id": "personal-classification",
   "metadata": {
    "slideshow": {
     "slide_type": "subslide"
    }
   },
   "source": [
    "# Diagnósticos da Regressão"
   ]
  },
  {
   "cell_type": "markdown",
   "id": "considerable-currency",
   "metadata": {},
   "source": [
    "- Teste de Normalidade dos Resíduos"
   ]
  },
  {
   "cell_type": "code",
   "execution_count": null,
   "id": "wooden-fight",
   "metadata": {},
   "outputs": [],
   "source": [
    "import statsmodels.stats.api as sms\n",
    "\n",
    "name = [\"Jarque-Bera\", \"Chi^2 two-tail prob.\", \"Skew\", \"Kurtosis\"]\n",
    "test = sms.jarque_bera(results.resid)\n",
    "list(zip(name, test))"
   ]
  },
  {
   "cell_type": "markdown",
   "id": "common-cameroon",
   "metadata": {
    "slideshow": {
     "slide_type": "subslide"
    }
   },
   "source": [
    "# Regressão com Variáveis Dummy\n",
    "\n",
    "![](images/examples_notebooks_generated_ols_26_0.png)\n",
    "\n",
    "<https://www.statsmodels.org/stable/examples/notebooks/generated/ols.html>"
   ]
  },
  {
   "cell_type": "markdown",
   "id": "banned-madonna",
   "metadata": {
    "slideshow": {
     "slide_type": "subslide"
    }
   },
   "source": [
    "# Diversos outros para Regressão\n",
    "\n",
    "## Estimação\n",
    "\n",
    "- Mínimos Quadrados Ponderados\n",
    "- Técnicas de Estimação Robusta\n",
    "- Mínimos Quadrados Generalizados\n",
    "- Estimação em Janela Móvel\n",
    "\n",
    "## Modelos\n",
    "\n",
    "- Regressão Quantílica\n",
    "- Modelos de Espaço de Estados\n",
    "- Modelos de Efeitos Mistos"
   ]
  },
  {
   "cell_type": "markdown",
   "id": "informal-connectivity",
   "metadata": {
    "slideshow": {
     "slide_type": "subslide"
    }
   },
   "source": [
    "# Modelos para Séries Temporais\n",
    "\n",
    "- `statsmodels` tem o Modelo ARIMA com algumas técnicas de estimação diferentes implementadas.\n",
    "\n",
    "## Modelos ARIMA\n",
    "\n",
    "- Modelos univariados que tentam explorar as relações implícitas nas variáveis.\n",
    "    - Avaliam a **Autocorrelação** - correlação linear da variável com ela mesma só que deslocada no tempo.\n",
    "- São modelos de Séries Temporais para variáveis estacionárias - *tipicamente sem tendência*.\n",
    "\n",
    "<!-- - **AR**: **Autoregressivo** - o passado explica o futuro\n",
    "- **I**: **Integrado** - é necessário aplicar diferenças nas variáveis para tornar as variáveis estacionárias\n",
    "- **MA**: **Média Móvel** - os erros de estimação do passado explicam o futuro -->"
   ]
  },
  {
   "cell_type": "markdown",
   "id": "primary-sherman",
   "metadata": {
    "slideshow": {
     "slide_type": "subslide"
    }
   },
   "source": [
    "# Funções de Autocorrelação `acf` e Autocorrelação parcial `pacf`"
   ]
  },
  {
   "cell_type": "code",
   "execution_count": null,
   "id": "fiscal-wages",
   "metadata": {
    "slideshow": {
     "slide_type": "fragment"
    }
   },
   "outputs": [],
   "source": [
    "from statsmodels.tsa.api import acf, pacf"
   ]
  },
  {
   "cell_type": "code",
   "execution_count": null,
   "id": "numerical-elimination",
   "metadata": {
    "slideshow": {
     "slide_type": "-"
    }
   },
   "outputs": [],
   "source": [
    "def acf_pacf(x):\n",
    "    fig = plt.figure(figsize=(16,10))\n",
    "    ax1 = fig.add_subplot(221)\n",
    "    fig = sm.graphics.tsa.plot_acf(x, lags=40, ax=ax1)\n",
    "    ax2 = fig.add_subplot(222)\n",
    "    fig = sm.graphics.tsa.plot_pacf(x, lags=40, ax=ax2)"
   ]
  },
  {
   "cell_type": "markdown",
   "id": "initial-session",
   "metadata": {
    "slideshow": {
     "slide_type": "subslide"
    }
   },
   "source": [
    "# Ruído Branco"
   ]
  },
  {
   "cell_type": "code",
   "execution_count": null,
   "id": "numerical-orlando",
   "metadata": {
    "slideshow": {
     "slide_type": "-"
    }
   },
   "outputs": [],
   "source": [
    "rb = np.random.randn(1000)"
   ]
  },
  {
   "cell_type": "code",
   "execution_count": null,
   "id": "acknowledged-release",
   "metadata": {
    "slideshow": {
     "slide_type": "fragment"
    }
   },
   "outputs": [],
   "source": [
    "plt.plot(rb);"
   ]
  },
  {
   "cell_type": "markdown",
   "id": "peaceful-suffering",
   "metadata": {
    "slideshow": {
     "slide_type": "subslide"
    }
   },
   "source": [
    "# Funções `acf` e `pacf` de um Ruído Branco"
   ]
  },
  {
   "cell_type": "code",
   "execution_count": null,
   "id": "headed-advocacy",
   "metadata": {},
   "outputs": [],
   "source": [
    "acf_pacf(rb)"
   ]
  },
  {
   "cell_type": "markdown",
   "id": "focal-surrey",
   "metadata": {
    "slideshow": {
     "slide_type": "subslide"
    }
   },
   "source": [
    "# Série Não Estacionária (séries com tendência)\n",
    "\n",
    "- O somatório acumulado do Ruído Branco é um processo não estacionário"
   ]
  },
  {
   "cell_type": "code",
   "execution_count": null,
   "id": "corrected-passion",
   "metadata": {},
   "outputs": [],
   "source": [
    "tv = np.cumsum(rb)"
   ]
  },
  {
   "cell_type": "code",
   "execution_count": null,
   "id": "superior-terrain",
   "metadata": {
    "slideshow": {
     "slide_type": "fragment"
    }
   },
   "outputs": [],
   "source": [
    "plt.plot(tv);"
   ]
  },
  {
   "cell_type": "markdown",
   "id": "handmade-doctor",
   "metadata": {
    "slideshow": {
     "slide_type": "subslide"
    }
   },
   "source": [
    "# Funções `acf` e `pacf` de uma Séries Não Estacionária"
   ]
  },
  {
   "cell_type": "code",
   "execution_count": null,
   "id": "matched-genesis",
   "metadata": {},
   "outputs": [],
   "source": [
    "acf_pacf(tv)"
   ]
  },
  {
   "cell_type": "markdown",
   "id": "mathematical-vietnam",
   "metadata": {
    "slideshow": {
     "slide_type": "subslide"
    }
   },
   "source": [
    "# Séries com Sazonalidade\n",
    "\n",
    "- Séries Temporais de Venda no Varejo costumam apresentar sazonalidade"
   ]
  },
  {
   "cell_type": "code",
   "execution_count": null,
   "id": "strange-jones",
   "metadata": {
    "slideshow": {
     "slide_type": "fragment"
    }
   },
   "outputs": [],
   "source": [
    "df = pd.read_csv('data/example_retail_sales.csv')\n",
    "df['ds'] = pd.PeriodIndex(df['ds'], freq='M')\n",
    "dfi = df.set_index('ds')"
   ]
  },
  {
   "cell_type": "code",
   "execution_count": null,
   "id": "voluntary-ordering",
   "metadata": {},
   "outputs": [],
   "source": [
    "dfi.plot();"
   ]
  },
  {
   "cell_type": "markdown",
   "id": "waiting-bench",
   "metadata": {
    "slideshow": {
     "slide_type": "subslide"
    }
   },
   "source": [
    "- A função de autocorrelação apresenta os efeitos da tendência\n",
    "- A autocorrelação parcial dá indícios de que temos sazonalidade no ciclo de 12 meses"
   ]
  },
  {
   "cell_type": "code",
   "execution_count": null,
   "id": "coupled-label",
   "metadata": {},
   "outputs": [],
   "source": [
    "acf_pacf(dfi)"
   ]
  },
  {
   "cell_type": "markdown",
   "id": "israeli-identification",
   "metadata": {
    "slideshow": {
     "slide_type": "subslide"
    }
   },
   "source": [
    "# Tomando diferenças\n",
    "\n",
    "- Tomando a diferença, elemento a elemento da série, conseguimos remover a tendência."
   ]
  },
  {
   "cell_type": "code",
   "execution_count": null,
   "id": "dress-interpretation",
   "metadata": {},
   "outputs": [],
   "source": [
    "dfi.diff().dropna().plot();"
   ]
  },
  {
   "cell_type": "markdown",
   "id": "superb-england",
   "metadata": {
    "slideshow": {
     "slide_type": "subslide"
    }
   },
   "source": [
    "- Na função de autocorrelação os lags de 12, 24, 36 apresentam valores muito significativos confirmando o ciclo de sazonalidade de 12 meses."
   ]
  },
  {
   "cell_type": "code",
   "execution_count": null,
   "id": "final-anime",
   "metadata": {},
   "outputs": [],
   "source": [
    "acf_pacf(dfi.diff().dropna())"
   ]
  },
  {
   "cell_type": "code",
   "execution_count": null,
   "id": "funded-pregnancy",
   "metadata": {
    "slideshow": {
     "slide_type": "skip"
    }
   },
   "outputs": [],
   "source": [
    "dfx = dfi.diff().dropna()\n",
    "\n",
    "train_size = int(dfx.shape[0] * 0.5)\n",
    "train, test = train_test_split(dfx, train_size=train_size)\n",
    "\n",
    "# Fit your model\n",
    "model = pm.auto_arima(train, seasonal=True, m=12)\n",
    "\n",
    "# make your forecasts\n",
    "forecasts = model.predict(test.shape[0])  # predict N steps into the future"
   ]
  },
  {
   "cell_type": "code",
   "execution_count": null,
   "id": "inside-profession",
   "metadata": {
    "slideshow": {
     "slide_type": "skip"
    }
   },
   "outputs": [],
   "source": [
    "x = np.arange(dfx.shape[0])\n",
    "plt.plot(x[train_size:], forecasts, 'r-', ms=3)\n",
    "plt.plot(x, dfx.values, c='grey', alpha=0.5);"
   ]
  },
  {
   "cell_type": "markdown",
   "id": "acquired-oregon",
   "metadata": {
    "slideshow": {
     "slide_type": "subslide"
    }
   },
   "source": [
    "# Fazendo previsões com ARIMA\n",
    "\n",
    "- O pacote `pmdarima` encontra o modelo ARIMA.\n",
    "\n",
    "- Fortemente inspirado pela função `auto.arima` do R."
   ]
  },
  {
   "cell_type": "code",
   "execution_count": null,
   "id": "removable-bibliography",
   "metadata": {},
   "outputs": [],
   "source": [
    "import pmdarima as pm\n",
    "from pmdarima.model_selection import train_test_split"
   ]
  },
  {
   "cell_type": "markdown",
   "id": "lasting-people",
   "metadata": {
    "slideshow": {
     "slide_type": "fragment"
    }
   },
   "source": [
    "- Separa os dados em treino e teste"
   ]
  },
  {
   "cell_type": "code",
   "execution_count": null,
   "id": "spiritual-invention",
   "metadata": {},
   "outputs": [],
   "source": [
    "train_size = int(dfi.shape[0] * 0.5)\n",
    "train, test = train_test_split(dfi, train_size=train_size)"
   ]
  },
  {
   "cell_type": "markdown",
   "id": "otherwise-memorial",
   "metadata": {
    "slideshow": {
     "slide_type": "subslide"
    }
   },
   "source": [
    "- Estima o modelo indicando que há sazonalidade e que o ciclo é de 12 meses"
   ]
  },
  {
   "cell_type": "code",
   "execution_count": null,
   "id": "rotary-citation",
   "metadata": {},
   "outputs": [],
   "source": [
    "model = pm.auto_arima(train, seasonal=True, m=12)"
   ]
  },
  {
   "cell_type": "markdown",
   "id": "conventional-raleigh",
   "metadata": {
    "slideshow": {
     "slide_type": "fragment"
    }
   },
   "source": [
    "- Faz a previsão no período de teste"
   ]
  },
  {
   "cell_type": "code",
   "execution_count": null,
   "id": "representative-digest",
   "metadata": {},
   "outputs": [],
   "source": [
    "forecasts = model.predict(test.shape[0])"
   ]
  },
  {
   "cell_type": "code",
   "execution_count": null,
   "id": "liable-jungle",
   "metadata": {
    "slideshow": {
     "slide_type": "subslide"
    }
   },
   "outputs": [],
   "source": [
    "x = np.arange(dfi.shape[0])\n",
    "plt.plot(x[train_size:], forecasts, 'r-', ms=3)\n",
    "plt.plot(x, dfi.values, c='grey', alpha=0.5);"
   ]
  },
  {
   "cell_type": "code",
   "execution_count": null,
   "id": "strong-bobby",
   "metadata": {
    "slideshow": {
     "slide_type": "skip"
    }
   },
   "outputs": [],
   "source": [
    "print(model.summary())"
   ]
  },
  {
   "cell_type": "markdown",
   "id": "wired-cursor",
   "metadata": {
    "slideshow": {
     "slide_type": "skip"
    }
   },
   "source": [
    "# Modelos de Volatilidade"
   ]
  },
  {
   "cell_type": "code",
   "execution_count": null,
   "id": "special-personality",
   "metadata": {
    "slideshow": {
     "slide_type": "skip"
    }
   },
   "outputs": [],
   "source": [
    "from arch import arch_model"
   ]
  },
  {
   "cell_type": "code",
   "execution_count": null,
   "id": "fourth-patrick",
   "metadata": {
    "slideshow": {
     "slide_type": "skip"
    }
   },
   "outputs": [],
   "source": [
    "series = yf.download('^BVSP', start='2015-01-01', end='2021-11-30', progress=False)\n",
    "close = series['Adj Close'].rename('IBOVESPA_CLOSE')\n",
    "ret = close.pct_change().dropna().rename('IBOVESPA_RETURNS')"
   ]
  },
  {
   "cell_type": "code",
   "execution_count": null,
   "id": "southeast-binding",
   "metadata": {
    "slideshow": {
     "slide_type": "skip"
    }
   },
   "outputs": [],
   "source": [
    "am = arch_model(100 * ret)\n",
    "res = am.fit(disp='off')\n",
    "print(res.summary())"
   ]
  },
  {
   "cell_type": "code",
   "execution_count": null,
   "id": "competitive-antenna",
   "metadata": {
    "slideshow": {
     "slide_type": "skip"
    }
   },
   "outputs": [],
   "source": [
    "fig = res.plot(annualize=\"D\")"
   ]
  },
  {
   "cell_type": "code",
   "execution_count": null,
   "id": "saved-piano",
   "metadata": {
    "slideshow": {
     "slide_type": "skip"
    }
   },
   "outputs": [],
   "source": [
    "split_date = datetime.datetime(2018,1,1)\n",
    "res = am.fit(last_obs=split_date, disp='off')"
   ]
  },
  {
   "cell_type": "code",
   "execution_count": null,
   "id": "occupational-street",
   "metadata": {
    "slideshow": {
     "slide_type": "skip"
    }
   },
   "outputs": [],
   "source": [
    "print(res.summary())"
   ]
  },
  {
   "cell_type": "code",
   "execution_count": null,
   "id": "charged-haiti",
   "metadata": {
    "slideshow": {
     "slide_type": "skip"
    }
   },
   "outputs": [],
   "source": [
    "fig = res.plot(annualize=\"D\")"
   ]
  },
  {
   "cell_type": "code",
   "execution_count": null,
   "id": "offensive-upset",
   "metadata": {
    "slideshow": {
     "slide_type": "skip"
    }
   },
   "outputs": [],
   "source": [
    "forecasts = res.forecast(horizon=5, start=split_date)\n",
    "np.sqrt(forecasts.variance[split_date:] * 252).plot()"
   ]
  },
  {
   "cell_type": "code",
   "execution_count": null,
   "id": "passing-assistant",
   "metadata": {
    "slideshow": {
     "slide_type": "skip"
    }
   },
   "outputs": [],
   "source": [
    "forecasts = res.forecast(horizon=10, start=split_date, method='simulation')"
   ]
  },
  {
   "cell_type": "code",
   "execution_count": null,
   "id": "driving-profit",
   "metadata": {
    "slideshow": {
     "slide_type": "skip"
    }
   },
   "outputs": [],
   "source": [
    "sim_paths = forecasts.simulations.residual_variances[-1].T"
   ]
  },
  {
   "cell_type": "code",
   "execution_count": null,
   "id": "requested-fantasy",
   "metadata": {
    "slideshow": {
     "slide_type": "skip"
    }
   },
   "outputs": [],
   "source": [
    "x = np.arange(1, 11)\n",
    "plt.plot(x, np.sqrt(252 * sim_paths), color='grey', alpha=0.05);\n",
    "plt.plot(\n",
    "    x, np.sqrt(252 * forecasts.residual_variance.iloc[-1]), color=\"k\", alpha=1\n",
    ")\n",
    "plt.title(\"Model-based Simulation\")\n",
    "plt.xticks(np.arange(1, 11))\n",
    "plt.xlim(1, 10)\n",
    "plt.show()\n",
    "# plt.ylim(20, 100)"
   ]
  },
  {
   "cell_type": "markdown",
   "id": "aware-mounting",
   "metadata": {
    "slideshow": {
     "slide_type": "slide"
    }
   },
   "source": [
    "# FIM\n",
    "\n",
    "- Twitter: `@aboutwilson`\n",
    "- LinkedIn: <https://www.linkedin.com/in/wilson-freitas/>"
   ]
  }
 ],
 "metadata": {
  "celltoolbar": "Slideshow",
  "kernelspec": {
   "display_name": "Python 3",
   "language": "python",
   "name": "python3"
  },
  "language_info": {
   "codemirror_mode": {
    "name": "ipython",
    "version": 3
   },
   "file_extension": ".py",
   "mimetype": "text/x-python",
   "name": "python",
   "nbconvert_exporter": "python",
   "pygments_lexer": "ipython3",
   "version": "3.7.6"
  },
  "rise": {
   "auto_select": "none",
   "auto_select_fragment": false,
   "overlay": "<div class='myheader'><h2>Wilson Freitas</h2></div>",
   "scroll": true,
   "theme": "white"
  }
 },
 "nbformat": 4,
 "nbformat_minor": 5
}
